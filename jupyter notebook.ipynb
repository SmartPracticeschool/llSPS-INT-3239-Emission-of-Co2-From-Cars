{
 "cells": [
  {
   "cell_type": "code",
   "execution_count": 1,
   "metadata": {},
   "outputs": [],
   "source": [
    "import pandas as pd\n",
    "import numpy as np\n",
    "import matplotlib.pyplot as plt"
   ]
  },
  {
   "cell_type": "code",
   "execution_count": 2,
   "metadata": {},
   "outputs": [
    {
     "data": {
      "text/html": [
       "<div>\n",
       "<style scoped>\n",
       "    .dataframe tbody tr th:only-of-type {\n",
       "        vertical-align: middle;\n",
       "    }\n",
       "\n",
       "    .dataframe tbody tr th {\n",
       "        vertical-align: top;\n",
       "    }\n",
       "\n",
       "    .dataframe thead th {\n",
       "        text-align: right;\n",
       "    }\n",
       "</style>\n",
       "<table border=\"1\" class=\"dataframe\">\n",
       "  <thead>\n",
       "    <tr style=\"text-align: right;\">\n",
       "      <th></th>\n",
       "      <th>MODELYEAR</th>\n",
       "      <th>MAKE</th>\n",
       "      <th>MODEL</th>\n",
       "      <th>VEHICLECLASS</th>\n",
       "      <th>ENGINESIZE</th>\n",
       "      <th>CYLINDERS</th>\n",
       "      <th>TRANSMISSION</th>\n",
       "      <th>FUELTYPE</th>\n",
       "      <th>FUELCONSUMPTION_CITY</th>\n",
       "      <th>FUELCONSUMPTION_HWY</th>\n",
       "      <th>FUELCONSUMPTION_COMB</th>\n",
       "      <th>FUELCONSUMPTION_COMB_MPG</th>\n",
       "      <th>CO2EMISSIONS</th>\n",
       "    </tr>\n",
       "  </thead>\n",
       "  <tbody>\n",
       "    <tr>\n",
       "      <th>0</th>\n",
       "      <td>2014</td>\n",
       "      <td>ACURA</td>\n",
       "      <td>ILX</td>\n",
       "      <td>COMPACT</td>\n",
       "      <td>2.0</td>\n",
       "      <td>4</td>\n",
       "      <td>AS5</td>\n",
       "      <td>Z</td>\n",
       "      <td>9.9</td>\n",
       "      <td>6.7</td>\n",
       "      <td>8.5</td>\n",
       "      <td>33</td>\n",
       "      <td>196</td>\n",
       "    </tr>\n",
       "    <tr>\n",
       "      <th>1</th>\n",
       "      <td>2014</td>\n",
       "      <td>ACURA</td>\n",
       "      <td>ILX</td>\n",
       "      <td>COMPACT</td>\n",
       "      <td>2.4</td>\n",
       "      <td>4</td>\n",
       "      <td>M6</td>\n",
       "      <td>Z</td>\n",
       "      <td>11.2</td>\n",
       "      <td>7.7</td>\n",
       "      <td>9.6</td>\n",
       "      <td>29</td>\n",
       "      <td>221</td>\n",
       "    </tr>\n",
       "    <tr>\n",
       "      <th>2</th>\n",
       "      <td>2014</td>\n",
       "      <td>ACURA</td>\n",
       "      <td>ILX HYBRID</td>\n",
       "      <td>COMPACT</td>\n",
       "      <td>1.5</td>\n",
       "      <td>4</td>\n",
       "      <td>AV7</td>\n",
       "      <td>Z</td>\n",
       "      <td>6.0</td>\n",
       "      <td>5.8</td>\n",
       "      <td>5.9</td>\n",
       "      <td>48</td>\n",
       "      <td>136</td>\n",
       "    </tr>\n",
       "    <tr>\n",
       "      <th>3</th>\n",
       "      <td>2014</td>\n",
       "      <td>ACURA</td>\n",
       "      <td>MDX 4WD</td>\n",
       "      <td>SUV - SMALL</td>\n",
       "      <td>3.5</td>\n",
       "      <td>6</td>\n",
       "      <td>AS6</td>\n",
       "      <td>Z</td>\n",
       "      <td>12.7</td>\n",
       "      <td>9.1</td>\n",
       "      <td>11.1</td>\n",
       "      <td>25</td>\n",
       "      <td>255</td>\n",
       "    </tr>\n",
       "    <tr>\n",
       "      <th>4</th>\n",
       "      <td>2014</td>\n",
       "      <td>ACURA</td>\n",
       "      <td>RDX AWD</td>\n",
       "      <td>SUV - SMALL</td>\n",
       "      <td>3.5</td>\n",
       "      <td>6</td>\n",
       "      <td>AS6</td>\n",
       "      <td>Z</td>\n",
       "      <td>12.1</td>\n",
       "      <td>8.7</td>\n",
       "      <td>10.6</td>\n",
       "      <td>27</td>\n",
       "      <td>244</td>\n",
       "    </tr>\n",
       "    <tr>\n",
       "      <th>...</th>\n",
       "      <td>...</td>\n",
       "      <td>...</td>\n",
       "      <td>...</td>\n",
       "      <td>...</td>\n",
       "      <td>...</td>\n",
       "      <td>...</td>\n",
       "      <td>...</td>\n",
       "      <td>...</td>\n",
       "      <td>...</td>\n",
       "      <td>...</td>\n",
       "      <td>...</td>\n",
       "      <td>...</td>\n",
       "      <td>...</td>\n",
       "    </tr>\n",
       "    <tr>\n",
       "      <th>1062</th>\n",
       "      <td>2014</td>\n",
       "      <td>VOLVO</td>\n",
       "      <td>XC60 AWD</td>\n",
       "      <td>SUV - SMALL</td>\n",
       "      <td>3.0</td>\n",
       "      <td>6</td>\n",
       "      <td>AS6</td>\n",
       "      <td>X</td>\n",
       "      <td>13.4</td>\n",
       "      <td>9.8</td>\n",
       "      <td>11.8</td>\n",
       "      <td>24</td>\n",
       "      <td>271</td>\n",
       "    </tr>\n",
       "    <tr>\n",
       "      <th>1063</th>\n",
       "      <td>2014</td>\n",
       "      <td>VOLVO</td>\n",
       "      <td>XC60 AWD</td>\n",
       "      <td>SUV - SMALL</td>\n",
       "      <td>3.2</td>\n",
       "      <td>6</td>\n",
       "      <td>AS6</td>\n",
       "      <td>X</td>\n",
       "      <td>13.2</td>\n",
       "      <td>9.5</td>\n",
       "      <td>11.5</td>\n",
       "      <td>25</td>\n",
       "      <td>264</td>\n",
       "    </tr>\n",
       "    <tr>\n",
       "      <th>1064</th>\n",
       "      <td>2014</td>\n",
       "      <td>VOLVO</td>\n",
       "      <td>XC70 AWD</td>\n",
       "      <td>SUV - SMALL</td>\n",
       "      <td>3.0</td>\n",
       "      <td>6</td>\n",
       "      <td>AS6</td>\n",
       "      <td>X</td>\n",
       "      <td>13.4</td>\n",
       "      <td>9.8</td>\n",
       "      <td>11.8</td>\n",
       "      <td>24</td>\n",
       "      <td>271</td>\n",
       "    </tr>\n",
       "    <tr>\n",
       "      <th>1065</th>\n",
       "      <td>2014</td>\n",
       "      <td>VOLVO</td>\n",
       "      <td>XC70 AWD</td>\n",
       "      <td>SUV - SMALL</td>\n",
       "      <td>3.2</td>\n",
       "      <td>6</td>\n",
       "      <td>AS6</td>\n",
       "      <td>X</td>\n",
       "      <td>12.9</td>\n",
       "      <td>9.3</td>\n",
       "      <td>11.3</td>\n",
       "      <td>25</td>\n",
       "      <td>260</td>\n",
       "    </tr>\n",
       "    <tr>\n",
       "      <th>1066</th>\n",
       "      <td>2014</td>\n",
       "      <td>VOLVO</td>\n",
       "      <td>XC90 AWD</td>\n",
       "      <td>SUV - STANDARD</td>\n",
       "      <td>3.2</td>\n",
       "      <td>6</td>\n",
       "      <td>AS6</td>\n",
       "      <td>X</td>\n",
       "      <td>14.9</td>\n",
       "      <td>10.2</td>\n",
       "      <td>12.8</td>\n",
       "      <td>22</td>\n",
       "      <td>294</td>\n",
       "    </tr>\n",
       "  </tbody>\n",
       "</table>\n",
       "<p>1067 rows × 13 columns</p>\n",
       "</div>"
      ],
      "text/plain": [
       "      MODELYEAR   MAKE       MODEL    VEHICLECLASS  ENGINESIZE  CYLINDERS  \\\n",
       "0          2014  ACURA         ILX         COMPACT         2.0          4   \n",
       "1          2014  ACURA         ILX         COMPACT         2.4          4   \n",
       "2          2014  ACURA  ILX HYBRID         COMPACT         1.5          4   \n",
       "3          2014  ACURA     MDX 4WD     SUV - SMALL         3.5          6   \n",
       "4          2014  ACURA     RDX AWD     SUV - SMALL         3.5          6   \n",
       "...         ...    ...         ...             ...         ...        ...   \n",
       "1062       2014  VOLVO    XC60 AWD     SUV - SMALL         3.0          6   \n",
       "1063       2014  VOLVO    XC60 AWD     SUV - SMALL         3.2          6   \n",
       "1064       2014  VOLVO    XC70 AWD     SUV - SMALL         3.0          6   \n",
       "1065       2014  VOLVO    XC70 AWD     SUV - SMALL         3.2          6   \n",
       "1066       2014  VOLVO    XC90 AWD  SUV - STANDARD         3.2          6   \n",
       "\n",
       "     TRANSMISSION FUELTYPE  FUELCONSUMPTION_CITY  FUELCONSUMPTION_HWY  \\\n",
       "0             AS5        Z                   9.9                  6.7   \n",
       "1              M6        Z                  11.2                  7.7   \n",
       "2             AV7        Z                   6.0                  5.8   \n",
       "3             AS6        Z                  12.7                  9.1   \n",
       "4             AS6        Z                  12.1                  8.7   \n",
       "...           ...      ...                   ...                  ...   \n",
       "1062          AS6        X                  13.4                  9.8   \n",
       "1063          AS6        X                  13.2                  9.5   \n",
       "1064          AS6        X                  13.4                  9.8   \n",
       "1065          AS6        X                  12.9                  9.3   \n",
       "1066          AS6        X                  14.9                 10.2   \n",
       "\n",
       "      FUELCONSUMPTION_COMB  FUELCONSUMPTION_COMB_MPG  CO2EMISSIONS  \n",
       "0                      8.5                        33           196  \n",
       "1                      9.6                        29           221  \n",
       "2                      5.9                        48           136  \n",
       "3                     11.1                        25           255  \n",
       "4                     10.6                        27           244  \n",
       "...                    ...                       ...           ...  \n",
       "1062                  11.8                        24           271  \n",
       "1063                  11.5                        25           264  \n",
       "1064                  11.8                        24           271  \n",
       "1065                  11.3                        25           260  \n",
       "1066                  12.8                        22           294  \n",
       "\n",
       "[1067 rows x 13 columns]"
      ]
     },
     "execution_count": 2,
     "metadata": {},
     "output_type": "execute_result"
    }
   ],
   "source": [
    "dataset=pd.read_csv(r'FuelConsumption.csv')\n",
    "dataset"
   ]
  },
  {
   "cell_type": "code",
   "execution_count": 3,
   "metadata": {},
   "outputs": [
    {
     "data": {
      "text/plain": [
       "pandas.core.frame.DataFrame"
      ]
     },
     "execution_count": 3,
     "metadata": {},
     "output_type": "execute_result"
    }
   ],
   "source": [
    "type(dataset)"
   ]
  },
  {
   "cell_type": "code",
   "execution_count": 4,
   "metadata": {},
   "outputs": [
    {
     "data": {
      "text/html": [
       "<div>\n",
       "<style scoped>\n",
       "    .dataframe tbody tr th:only-of-type {\n",
       "        vertical-align: middle;\n",
       "    }\n",
       "\n",
       "    .dataframe tbody tr th {\n",
       "        vertical-align: top;\n",
       "    }\n",
       "\n",
       "    .dataframe thead th {\n",
       "        text-align: right;\n",
       "    }\n",
       "</style>\n",
       "<table border=\"1\" class=\"dataframe\">\n",
       "  <thead>\n",
       "    <tr style=\"text-align: right;\">\n",
       "      <th></th>\n",
       "      <th>ENGINESIZE</th>\n",
       "      <th>CYLINDERS</th>\n",
       "      <th>FUELTYPE</th>\n",
       "      <th>FUELCONSUMPTION_CITY</th>\n",
       "      <th>FUELCONSUMPTION_HWY</th>\n",
       "      <th>FUELCONSUMPTION_COMB</th>\n",
       "      <th>CO2EMISSIONS</th>\n",
       "    </tr>\n",
       "  </thead>\n",
       "  <tbody>\n",
       "    <tr>\n",
       "      <th>0</th>\n",
       "      <td>2.0</td>\n",
       "      <td>4</td>\n",
       "      <td>Z</td>\n",
       "      <td>9.9</td>\n",
       "      <td>6.7</td>\n",
       "      <td>8.5</td>\n",
       "      <td>196</td>\n",
       "    </tr>\n",
       "    <tr>\n",
       "      <th>1</th>\n",
       "      <td>2.4</td>\n",
       "      <td>4</td>\n",
       "      <td>Z</td>\n",
       "      <td>11.2</td>\n",
       "      <td>7.7</td>\n",
       "      <td>9.6</td>\n",
       "      <td>221</td>\n",
       "    </tr>\n",
       "    <tr>\n",
       "      <th>2</th>\n",
       "      <td>1.5</td>\n",
       "      <td>4</td>\n",
       "      <td>Z</td>\n",
       "      <td>6.0</td>\n",
       "      <td>5.8</td>\n",
       "      <td>5.9</td>\n",
       "      <td>136</td>\n",
       "    </tr>\n",
       "    <tr>\n",
       "      <th>3</th>\n",
       "      <td>3.5</td>\n",
       "      <td>6</td>\n",
       "      <td>Z</td>\n",
       "      <td>12.7</td>\n",
       "      <td>9.1</td>\n",
       "      <td>11.1</td>\n",
       "      <td>255</td>\n",
       "    </tr>\n",
       "    <tr>\n",
       "      <th>4</th>\n",
       "      <td>3.5</td>\n",
       "      <td>6</td>\n",
       "      <td>Z</td>\n",
       "      <td>12.1</td>\n",
       "      <td>8.7</td>\n",
       "      <td>10.6</td>\n",
       "      <td>244</td>\n",
       "    </tr>\n",
       "    <tr>\n",
       "      <th>...</th>\n",
       "      <td>...</td>\n",
       "      <td>...</td>\n",
       "      <td>...</td>\n",
       "      <td>...</td>\n",
       "      <td>...</td>\n",
       "      <td>...</td>\n",
       "      <td>...</td>\n",
       "    </tr>\n",
       "    <tr>\n",
       "      <th>1062</th>\n",
       "      <td>3.0</td>\n",
       "      <td>6</td>\n",
       "      <td>X</td>\n",
       "      <td>13.4</td>\n",
       "      <td>9.8</td>\n",
       "      <td>11.8</td>\n",
       "      <td>271</td>\n",
       "    </tr>\n",
       "    <tr>\n",
       "      <th>1063</th>\n",
       "      <td>3.2</td>\n",
       "      <td>6</td>\n",
       "      <td>X</td>\n",
       "      <td>13.2</td>\n",
       "      <td>9.5</td>\n",
       "      <td>11.5</td>\n",
       "      <td>264</td>\n",
       "    </tr>\n",
       "    <tr>\n",
       "      <th>1064</th>\n",
       "      <td>3.0</td>\n",
       "      <td>6</td>\n",
       "      <td>X</td>\n",
       "      <td>13.4</td>\n",
       "      <td>9.8</td>\n",
       "      <td>11.8</td>\n",
       "      <td>271</td>\n",
       "    </tr>\n",
       "    <tr>\n",
       "      <th>1065</th>\n",
       "      <td>3.2</td>\n",
       "      <td>6</td>\n",
       "      <td>X</td>\n",
       "      <td>12.9</td>\n",
       "      <td>9.3</td>\n",
       "      <td>11.3</td>\n",
       "      <td>260</td>\n",
       "    </tr>\n",
       "    <tr>\n",
       "      <th>1066</th>\n",
       "      <td>3.2</td>\n",
       "      <td>6</td>\n",
       "      <td>X</td>\n",
       "      <td>14.9</td>\n",
       "      <td>10.2</td>\n",
       "      <td>12.8</td>\n",
       "      <td>294</td>\n",
       "    </tr>\n",
       "  </tbody>\n",
       "</table>\n",
       "<p>1067 rows × 7 columns</p>\n",
       "</div>"
      ],
      "text/plain": [
       "      ENGINESIZE  CYLINDERS FUELTYPE  FUELCONSUMPTION_CITY  \\\n",
       "0            2.0          4        Z                   9.9   \n",
       "1            2.4          4        Z                  11.2   \n",
       "2            1.5          4        Z                   6.0   \n",
       "3            3.5          6        Z                  12.7   \n",
       "4            3.5          6        Z                  12.1   \n",
       "...          ...        ...      ...                   ...   \n",
       "1062         3.0          6        X                  13.4   \n",
       "1063         3.2          6        X                  13.2   \n",
       "1064         3.0          6        X                  13.4   \n",
       "1065         3.2          6        X                  12.9   \n",
       "1066         3.2          6        X                  14.9   \n",
       "\n",
       "      FUELCONSUMPTION_HWY  FUELCONSUMPTION_COMB  CO2EMISSIONS  \n",
       "0                     6.7                   8.5           196  \n",
       "1                     7.7                   9.6           221  \n",
       "2                     5.8                   5.9           136  \n",
       "3                     9.1                  11.1           255  \n",
       "4                     8.7                  10.6           244  \n",
       "...                   ...                   ...           ...  \n",
       "1062                  9.8                  11.8           271  \n",
       "1063                  9.5                  11.5           264  \n",
       "1064                  9.8                  11.8           271  \n",
       "1065                  9.3                  11.3           260  \n",
       "1066                 10.2                  12.8           294  \n",
       "\n",
       "[1067 rows x 7 columns]"
      ]
     },
     "execution_count": 4,
     "metadata": {},
     "output_type": "execute_result"
    }
   ],
   "source": [
    "dataset.drop(['MODELYEAR','MAKE','MODEL','VEHICLECLASS','TRANSMISSION','FUELCONSUMPTION_COMB_MPG'],axis=1,inplace=True)\n",
    "dataset"
   ]
  },
  {
   "cell_type": "code",
   "execution_count": 5,
   "metadata": {},
   "outputs": [
    {
     "data": {
      "text/plain": [
       "ENGINESIZE              False\n",
       "CYLINDERS               False\n",
       "FUELTYPE                False\n",
       "FUELCONSUMPTION_CITY    False\n",
       "FUELCONSUMPTION_HWY     False\n",
       "FUELCONSUMPTION_COMB    False\n",
       "CO2EMISSIONS            False\n",
       "dtype: bool"
      ]
     },
     "execution_count": 5,
     "metadata": {},
     "output_type": "execute_result"
    }
   ],
   "source": [
    "dataset.isnull().any()"
   ]
  },
  {
   "cell_type": "code",
   "execution_count": 6,
   "metadata": {},
   "outputs": [
    {
     "data": {
      "text/plain": [
       "ENGINESIZE              0\n",
       "CYLINDERS               0\n",
       "FUELTYPE                0\n",
       "FUELCONSUMPTION_CITY    0\n",
       "FUELCONSUMPTION_HWY     0\n",
       "FUELCONSUMPTION_COMB    0\n",
       "CO2EMISSIONS            0\n",
       "dtype: int64"
      ]
     },
     "execution_count": 6,
     "metadata": {},
     "output_type": "execute_result"
    }
   ],
   "source": [
    "dataset.isnull().sum()"
   ]
  },
  {
   "cell_type": "code",
   "execution_count": 7,
   "metadata": {},
   "outputs": [
    {
     "data": {
      "text/html": [
       "<div>\n",
       "<style scoped>\n",
       "    .dataframe tbody tr th:only-of-type {\n",
       "        vertical-align: middle;\n",
       "    }\n",
       "\n",
       "    .dataframe tbody tr th {\n",
       "        vertical-align: top;\n",
       "    }\n",
       "\n",
       "    .dataframe thead th {\n",
       "        text-align: right;\n",
       "    }\n",
       "</style>\n",
       "<table border=\"1\" class=\"dataframe\">\n",
       "  <thead>\n",
       "    <tr style=\"text-align: right;\">\n",
       "      <th></th>\n",
       "      <th>ENGINESIZE</th>\n",
       "      <th>CYLINDERS</th>\n",
       "      <th>FUELCONSUMPTION_CITY</th>\n",
       "      <th>FUELCONSUMPTION_HWY</th>\n",
       "      <th>FUELCONSUMPTION_COMB</th>\n",
       "      <th>CO2EMISSIONS</th>\n",
       "    </tr>\n",
       "  </thead>\n",
       "  <tbody>\n",
       "    <tr>\n",
       "      <th>ENGINESIZE</th>\n",
       "      <td>1.000000</td>\n",
       "      <td>0.934011</td>\n",
       "      <td>0.832225</td>\n",
       "      <td>0.778746</td>\n",
       "      <td>0.819482</td>\n",
       "      <td>0.874154</td>\n",
       "    </tr>\n",
       "    <tr>\n",
       "      <th>CYLINDERS</th>\n",
       "      <td>0.934011</td>\n",
       "      <td>1.000000</td>\n",
       "      <td>0.796473</td>\n",
       "      <td>0.724594</td>\n",
       "      <td>0.776788</td>\n",
       "      <td>0.849685</td>\n",
       "    </tr>\n",
       "    <tr>\n",
       "      <th>FUELCONSUMPTION_CITY</th>\n",
       "      <td>0.832225</td>\n",
       "      <td>0.796473</td>\n",
       "      <td>1.000000</td>\n",
       "      <td>0.965718</td>\n",
       "      <td>0.995542</td>\n",
       "      <td>0.898039</td>\n",
       "    </tr>\n",
       "    <tr>\n",
       "      <th>FUELCONSUMPTION_HWY</th>\n",
       "      <td>0.778746</td>\n",
       "      <td>0.724594</td>\n",
       "      <td>0.965718</td>\n",
       "      <td>1.000000</td>\n",
       "      <td>0.985804</td>\n",
       "      <td>0.861748</td>\n",
       "    </tr>\n",
       "    <tr>\n",
       "      <th>FUELCONSUMPTION_COMB</th>\n",
       "      <td>0.819482</td>\n",
       "      <td>0.776788</td>\n",
       "      <td>0.995542</td>\n",
       "      <td>0.985804</td>\n",
       "      <td>1.000000</td>\n",
       "      <td>0.892129</td>\n",
       "    </tr>\n",
       "    <tr>\n",
       "      <th>CO2EMISSIONS</th>\n",
       "      <td>0.874154</td>\n",
       "      <td>0.849685</td>\n",
       "      <td>0.898039</td>\n",
       "      <td>0.861748</td>\n",
       "      <td>0.892129</td>\n",
       "      <td>1.000000</td>\n",
       "    </tr>\n",
       "  </tbody>\n",
       "</table>\n",
       "</div>"
      ],
      "text/plain": [
       "                      ENGINESIZE  CYLINDERS  FUELCONSUMPTION_CITY  \\\n",
       "ENGINESIZE              1.000000   0.934011              0.832225   \n",
       "CYLINDERS               0.934011   1.000000              0.796473   \n",
       "FUELCONSUMPTION_CITY    0.832225   0.796473              1.000000   \n",
       "FUELCONSUMPTION_HWY     0.778746   0.724594              0.965718   \n",
       "FUELCONSUMPTION_COMB    0.819482   0.776788              0.995542   \n",
       "CO2EMISSIONS            0.874154   0.849685              0.898039   \n",
       "\n",
       "                      FUELCONSUMPTION_HWY  FUELCONSUMPTION_COMB  CO2EMISSIONS  \n",
       "ENGINESIZE                       0.778746              0.819482      0.874154  \n",
       "CYLINDERS                        0.724594              0.776788      0.849685  \n",
       "FUELCONSUMPTION_CITY             0.965718              0.995542      0.898039  \n",
       "FUELCONSUMPTION_HWY              1.000000              0.985804      0.861748  \n",
       "FUELCONSUMPTION_COMB             0.985804              1.000000      0.892129  \n",
       "CO2EMISSIONS                     0.861748              0.892129      1.000000  "
      ]
     },
     "execution_count": 7,
     "metadata": {},
     "output_type": "execute_result"
    }
   ],
   "source": [
    "dataset.corr()"
   ]
  },
  {
   "cell_type": "code",
   "execution_count": 8,
   "metadata": {},
   "outputs": [
    {
     "data": {
      "text/plain": [
       "<matplotlib.axes._subplots.AxesSubplot at 0x2d29ff637c8>"
      ]
     },
     "execution_count": 8,
     "metadata": {},
     "output_type": "execute_result"
    },
    {
     "data": {
      "image/png": "[encoded data removed]",
      "text/plain": [
       "<Figure size 432x288 with 1 Axes>"
      ]
     },
     "metadata": {
      "needs_background": "light"
     },
     "output_type": "display_data"
    }
   ],
   "source": [
    "import seaborn as sns\n",
    "sns.boxplot(dataset['ENGINESIZE'])"
   ]
  },
  {
   "cell_type": "code",
   "execution_count": 9,
   "metadata": {},
   "outputs": [
    {
     "data": {
      "text/plain": [
       "<matplotlib.axes._subplots.AxesSubplot at 0x2d2a177eac8>"
      ]
     },
     "execution_count": 9,
     "metadata": {},
     "output_type": "execute_result"
    },
    {
     "data": {
      "image/png": "[encoded data removed]",
      "text/plain": [
       "<Figure size 432x288 with 1 Axes>"
      ]
     },
     "metadata": {
      "needs_background": "light"
     },
     "output_type": "display_data"
    }
   ],
   "source": [
    "sns.boxplot(dataset['CYLINDERS'])"
   ]
  },
  {
   "cell_type": "code",
   "execution_count": 10,
   "metadata": {},
   "outputs": [
    {
     "data": {
      "text/plain": [
       "<matplotlib.axes._subplots.AxesSubplot at 0x2d2a18603c8>"
      ]
     },
     "execution_count": 10,
     "metadata": {},
     "output_type": "execute_result"
    },
    {
     "data": {
      "image/png": "[encoded data removed]",
      "text/plain": [
       "<Figure size 432x288 with 1 Axes>"
      ]
     },
     "metadata": {
      "needs_background": "light"
     },
     "output_type": "display_data"
    }
   ],
   "source": [
    "sns.boxplot(dataset['CO2EMISSIONS'])"
   ]
  },
  {
   "cell_type": "code",
   "execution_count": 11,
   "metadata": {},
   "outputs": [
    {
     "data": {
      "text/plain": [
       "<matplotlib.axes._subplots.AxesSubplot at 0x2d2a18d4d08>"
      ]
     },
     "execution_count": 11,
     "metadata": {},
     "output_type": "execute_result"
    },
    {
     "data": {
      "image/png": "[encoded data removed]",
      "text/plain": [
       "<Figure size 432x288 with 1 Axes>"
      ]
     },
     "metadata": {
      "needs_background": "light"
     },
     "output_type": "display_data"
    }
   ],
   "source": [
    "sns.boxplot(dataset['FUELCONSUMPTION_COMB'])"
   ]
  },
  {
   "cell_type": "code",
   "execution_count": 12,
   "metadata": {},
   "outputs": [
    {
     "data": {
      "text/plain": [
       "array([[2.0, 4, 'Z', 9.9, 6.7, 8.5],\n",
       "       [2.4, 4, 'Z', 11.2, 7.7, 9.6],\n",
       "       [1.5, 4, 'Z', 6.0, 5.8, 5.9],\n",
       "       ...,\n",
       "       [3.0, 6, 'X', 13.4, 9.8, 11.8],\n",
       "       [3.2, 6, 'X', 12.9, 9.3, 11.3],\n",
       "       [3.2, 6, 'X', 14.9, 10.2, 12.8]], dtype=object)"
      ]
     },
     "execution_count": 12,
     "metadata": {},
     "output_type": "execute_result"
    }
   ],
   "source": [
    "x=dataset.iloc[:,0:6].values\n",
    "x"
   ]
  },
  {
   "cell_type": "code",
   "execution_count": 13,
   "metadata": {},
   "outputs": [
    {
     "data": {
      "text/plain": [
       "array([196, 221, 136, ..., 271, 260, 294], dtype=int64)"
      ]
     },
     "execution_count": 13,
     "metadata": {},
     "output_type": "execute_result"
    }
   ],
   "source": [
    "y = dataset.iloc[:,-1].values\n",
    "y"
   ]
  },
  {
   "cell_type": "code",
   "execution_count": 14,
   "metadata": {},
   "outputs": [
    {
     "data": {
      "text/plain": [
       "X    514\n",
       "Z    434\n",
       "E     92\n",
       "D     27\n",
       "Name: FUELTYPE, dtype: int64"
      ]
     },
     "execution_count": 14,
     "metadata": {},
     "output_type": "execute_result"
    }
   ],
   "source": [
    "dataset['FUELTYPE'].value_counts()"
   ]
  },
  {
   "cell_type": "code",
   "execution_count": 15,
   "metadata": {},
   "outputs": [],
   "source": [
    "import sklearn\n",
    "from sklearn.compose import ColumnTransformer\n",
    "from sklearn.preprocessing import OneHotEncoder"
   ]
  },
  {
   "cell_type": "code",
   "execution_count": 16,
   "metadata": {},
   "outputs": [
    {
     "data": {
      "text/plain": [
       "array([[0.0, 0.0, 0.0, ..., 9.9, 6.7, 8.5],\n",
       "       [0.0, 0.0, 0.0, ..., 11.2, 7.7, 9.6],\n",
       "       [0.0, 0.0, 0.0, ..., 6.0, 5.8, 5.9],\n",
       "       ...,\n",
       "       [0.0, 0.0, 1.0, ..., 13.4, 9.8, 11.8],\n",
       "       [0.0, 0.0, 1.0, ..., 12.9, 9.3, 11.3],\n",
       "       [0.0, 0.0, 1.0, ..., 14.9, 10.2, 12.8]], dtype=object)"
      ]
     },
     "execution_count": 16,
     "metadata": {},
     "output_type": "execute_result"
    }
   ],
   "source": [
    "ct=ColumnTransformer([(\"on\",OneHotEncoder(),[2])],remainder='passthrough')\n",
    "x=ct.fit_transform(x)\n",
    "x"
   ]
  },
  {
   "cell_type": "code",
   "execution_count": 17,
   "metadata": {},
   "outputs": [
    {
     "data": {
      "text/plain": [
       "array([[0.0, 0.0, 1.0, ..., 9.9, 6.7, 8.5],\n",
       "       [0.0, 0.0, 1.0, ..., 11.2, 7.7, 9.6],\n",
       "       [0.0, 0.0, 1.0, ..., 6.0, 5.8, 5.9],\n",
       "       ...,\n",
       "       [0.0, 1.0, 0.0, ..., 13.4, 9.8, 11.8],\n",
       "       [0.0, 1.0, 0.0, ..., 12.9, 9.3, 11.3],\n",
       "       [0.0, 1.0, 0.0, ..., 14.9, 10.2, 12.8]], dtype=object)"
      ]
     },
     "execution_count": 17,
     "metadata": {},
     "output_type": "execute_result"
    }
   ],
   "source": [
    "x=x[:,1:]\n",
    "x"
   ]
  },
  {
   "cell_type": "code",
   "execution_count": 18,
   "metadata": {},
   "outputs": [
    {
     "data": {
      "text/plain": [
       "(1067, 8)"
      ]
     },
     "execution_count": 18,
     "metadata": {},
     "output_type": "execute_result"
    }
   ],
   "source": [
    "x.shape"
   ]
  },
  {
   "cell_type": "code",
   "execution_count": 21,
   "metadata": {},
   "outputs": [
    {
     "data": {
      "text/plain": [
       "<matplotlib.collections.PathCollection at 0x2d2a192e8c8>"
      ]
     },
     "execution_count": 21,
     "metadata": {},
     "output_type": "execute_result"
    },
    {
     "data": {
      "image/png": "[encoded data removed]",
      "text/plain": [
       "<Figure size 432x288 with 1 Axes>"
      ]
     },
     "metadata": {
      "needs_background": "light"
     },
     "output_type": "display_data"
    }
   ],
   "source": [
    "plt.scatter(x[:,4],y)"
   ]
  },
  {
   "cell_type": "code",
   "execution_count": 22,
   "metadata": {},
   "outputs": [
    {
     "data": {
      "text/plain": [
       "<matplotlib.collections.PathCollection at 0x2d2a1b469c8>"
      ]
     },
     "execution_count": 22,
     "metadata": {},
     "output_type": "execute_result"
    },
    {
     "data": {
      "image/png": "[encoded data removed]",
      "text/plain": [
       "<Figure size 432x288 with 1 Axes>"
      ]
     },
     "metadata": {
      "needs_background": "light"
     },
     "output_type": "display_data"
    }
   ],
   "source": [
    "plt.scatter(x[:,5],y)"
   ]
  },
  {
   "cell_type": "code",
   "execution_count": 23,
   "metadata": {},
   "outputs": [
    {
     "data": {
      "text/plain": [
       "<matplotlib.collections.PathCollection at 0x2d2a1dc7b88>"
      ]
     },
     "execution_count": 23,
     "metadata": {},
     "output_type": "execute_result"
    },
    {
     "data": {
      "image/png": "[encoded data removed]",
      "text/plain": [
       "<Figure size 432x288 with 1 Axes>"
      ]
     },
     "metadata": {
      "needs_background": "light"
     },
     "output_type": "display_data"
    }
   ],
   "source": [
    "plt.scatter(x[:,6],y)"
   ]
  },
  {
   "cell_type": "code",
   "execution_count": 24,
   "metadata": {},
   "outputs": [
    {
     "data": {
      "text/plain": [
       "<matplotlib.collections.PathCollection at 0x2d2a1e613c8>"
      ]
     },
     "execution_count": 24,
     "metadata": {},
     "output_type": "execute_result"
    },
    {
     "data": {
      "image/png": "[encoded data removed]",
      "text/plain": [
       "<Figure size 432x288 with 1 Axes>"
      ]
     },
     "metadata": {
      "needs_background": "light"
     },
     "output_type": "display_data"
    }
   ],
   "source": [
    "plt.scatter(x[:,7],y)"
   ]
  },
  {
   "cell_type": "code",
   "execution_count": 26,
   "metadata": {},
   "outputs": [],
   "source": [
    "from sklearn.model_selection import train_test_split\n",
    "x_train,x_test,y_train,y_test=train_test_split(x,y,test_size=0.2,random_state=0)"
   ]
  },
  {
   "cell_type": "code",
   "execution_count": 27,
   "metadata": {},
   "outputs": [
    {
     "data": {
      "text/plain": [
       "array([[0.0, 1.0, 0.0, ..., 14.6, 10.2, 12.6],\n",
       "       [0.0, 1.0, 0.0, ..., 16.9, 12.8, 15.1],\n",
       "       [0.0, 0.0, 1.0, ..., 12.1, 8.7, 10.6],\n",
       "       ...,\n",
       "       [0.0, 0.0, 1.0, ..., 13.5, 9.6, 11.7],\n",
       "       [0.0, 0.0, 1.0, ..., 15.8, 10.2, 13.3],\n",
       "       [0.0, 1.0, 0.0, ..., 13.1, 9.3, 11.4]], dtype=object)"
      ]
     },
     "execution_count": 27,
     "metadata": {},
     "output_type": "execute_result"
    }
   ],
   "source": [
    "x_train"
   ]
  },
  {
   "cell_type": "code",
   "execution_count": 28,
   "metadata": {},
   "outputs": [
    {
     "data": {
      "text/plain": [
       "array([290, 347, 244, 218, 170, 267, 389, 138, 218, 198, 280, 196, 237,\n",
       "       255, 242, 168, 218, 246, 250, 186, 172, 315, 239, 413, 214, 260,\n",
       "       246, 246, 264, 264, 163, 317, 254, 292, 380, 299, 230, 186, 216,\n",
       "       232, 244, 202, 271, 170, 225, 162, 301, 225, 264, 214, 346, 212,\n",
       "       191, 244, 242, 196, 207, 212, 288, 382, 294, 267, 235, 235, 322,\n",
       "       196, 230, 259, 159, 224, 216, 235, 297, 181, 382, 239, 377, 294,\n",
       "       223, 212, 435, 228, 230, 209, 294, 232, 294, 253, 239, 216, 168,\n",
       "       222, 193, 283, 186, 340, 207, 193, 251, 209, 327, 271, 354, 258,\n",
       "       267, 297, 271, 230, 251, 366, 200, 262, 168, 315, 212, 294, 207,\n",
       "       207, 258, 196, 209, 221, 362, 389, 347, 308, 191, 198, 363, 260,\n",
       "       235, 255, 294, 225, 232, 297, 232, 290, 251, 304, 182, 175, 277,\n",
       "       294, 274, 260, 225, 163, 290, 230, 145, 205, 297, 196, 308, 168,\n",
       "       380, 407, 338, 191, 264, 292, 225, 193, 336, 244, 317, 248, 359,\n",
       "       196, 380, 179, 209, 237, 306, 235, 223, 338, 163, 317, 297, 237,\n",
       "       184, 258, 338, 359, 235, 182, 260, 354, 244, 281, 324, 264, 165,\n",
       "       419, 235, 382, 393, 216, 250, 258, 198, 421, 209, 354, 200, 271,\n",
       "       209, 156, 259, 308, 258, 396, 317, 290, 276, 260, 290, 191, 274,\n",
       "       317, 184, 363, 195, 202, 246, 315, 360, 184, 179, 340, 308, 196,\n",
       "       221, 322, 354, 283, 221, 191, 214, 159, 254, 301, 182, 285, 276,\n",
       "       361, 193, 251, 308, 179, 324, 352, 242, 246, 209, 336, 225, 216,\n",
       "       200, 244, 317, 306, 184, 318, 209, 320, 246, 366, 255, 248, 269,\n",
       "       258, 264, 346, 271, 350, 255, 189, 230, 161, 292, 218, 184, 253,\n",
       "       288, 317, 347, 270, 237, 253, 228, 432, 294, 260, 244, 212, 228,\n",
       "       170, 340, 225, 126, 213, 250, 294, 182, 278, 344, 414, 258, 315,\n",
       "       297, 248, 189, 277, 232, 221, 207, 292, 294, 409, 264, 299, 230,\n",
       "       402, 294, 362, 189, 216, 239, 276, 352, 177, 145, 283, 262, 165,\n",
       "       175, 177, 209, 271, 380, 370, 382, 218, 267, 192, 198, 281, 228,\n",
       "       285, 265, 380, 237, 186, 214, 196, 285, 175, 354, 320, 230, 281,\n",
       "       281, 207, 414, 264, 246, 278, 377, 380, 209, 329, 278, 269, 269,\n",
       "       320, 274, 274, 251, 290, 244, 200, 196, 255, 324, 281, 267, 262,\n",
       "       354, 216, 398, 411, 251, 292, 228, 179, 292, 193, 264, 317, 269,\n",
       "       292, 138, 230, 271, 356, 205, 283, 225, 209, 159, 212, 304, 278,\n",
       "       235, 255, 177, 262, 198, 260, 393, 166, 310, 248, 228, 310, 253,\n",
       "       373, 189, 198, 145, 239, 285, 205, 248, 338, 272, 198, 147, 198,\n",
       "       207, 161, 331, 200, 320, 304, 216, 242, 262, 274, 179, 267, 235,\n",
       "       216, 175, 198, 411, 179, 380, 297, 301, 179, 138, 380, 264, 278,\n",
       "       230, 368, 235, 244, 246, 209, 297, 175, 269, 214, 347, 232, 338,\n",
       "       177, 248, 267, 108, 246, 251, 294, 258, 242, 338, 235, 264, 359,\n",
       "       223, 292, 340, 264, 232, 281, 380, 225, 207, 276, 294, 202, 283,\n",
       "       301, 232, 292, 338, 251, 196, 327, 271, 285, 294, 244, 196, 184,\n",
       "       184, 209, 297, 209, 260, 200, 177, 221, 216, 223, 223, 191, 179,\n",
       "       301, 191, 168, 306, 221, 356, 196, 267, 200, 380, 216, 264, 222,\n",
       "       310, 224, 214, 258, 283, 267, 340, 294, 386, 264, 225, 288, 193,\n",
       "       253, 269, 200, 362, 290, 182, 196, 317, 285, 276, 368, 278, 200,\n",
       "       278, 258, 228, 336, 193, 281, 207, 202, 228, 184, 152, 184, 253,\n",
       "       347, 258, 380, 175, 237, 225, 244, 228, 384, 285, 239, 380, 175,\n",
       "       228, 260, 253, 290, 225, 244, 189, 253, 334, 177, 258, 286, 221,\n",
       "       239, 166, 177, 242, 329, 186, 184, 292, 237, 214, 336, 344, 207,\n",
       "       212, 253, 488, 292, 248, 306, 230, 344, 306, 237, 393, 225, 242,\n",
       "       248, 283, 196, 237, 317, 271, 317, 264, 255, 413, 380, 255, 380,\n",
       "       292, 276, 235, 292, 228, 189, 172, 198, 301, 237, 277, 308, 278,\n",
       "       262, 159, 315, 393, 200, 331, 297, 173, 419, 186, 260, 193, 202,\n",
       "       255, 230, 251, 283, 232, 419, 221, 143, 275, 334, 230, 251, 225,\n",
       "       221, 344, 294, 366, 179, 281, 232, 191, 197, 354, 227, 181, 251,\n",
       "       269, 239, 253, 294, 221, 361, 230, 232, 285, 246, 179, 207, 306,\n",
       "       272, 189, 194, 216, 317, 179, 143, 253, 202, 283, 255, 283, 230,\n",
       "       179, 285, 294, 260, 255, 308, 192, 274, 267, 306, 221, 343, 152,\n",
       "       189, 218, 269, 347, 322, 182, 225, 179, 230, 223, 218, 253, 235,\n",
       "       251, 280, 202, 308, 340, 221, 179, 288, 435, 175, 212, 198, 322,\n",
       "       246, 177, 320, 216, 409, 177, 207, 278, 163, 209, 147, 421, 297,\n",
       "       315, 193, 278, 315, 193, 200, 232, 361, 317, 253, 276, 262, 182,\n",
       "       274, 168, 191, 225, 189, 362, 304, 175, 320, 166, 207, 324, 161,\n",
       "       242, 251, 308, 207, 197, 230, 191, 258, 274, 237, 255, 246, 299,\n",
       "       225, 196, 294, 225, 196, 271, 313, 253, 196, 225, 209, 214, 432,\n",
       "       407, 156, 212, 380, 322, 186, 267, 271, 340, 230, 281, 170, 186,\n",
       "       251, 308, 242, 186, 256, 269, 306, 262], dtype=int64)"
      ]
     },
     "execution_count": 28,
     "metadata": {},
     "output_type": "execute_result"
    }
   ],
   "source": [
    "y_train"
   ]
  },
  {
   "cell_type": "code",
   "execution_count": 29,
   "metadata": {},
   "outputs": [
    {
     "data": {
      "text/plain": [
       "array([[0.0, 0.0, 1.0, ..., 17.2, 13.5, 15.5],\n",
       "       [0.0, 1.0, 0.0, ..., 10.5, 7.3, 9.1],\n",
       "       [0.0, 1.0, 0.0, ..., 11.4, 8.3, 10.0],\n",
       "       ...,\n",
       "       [0.0, 0.0, 1.0, ..., 9.3, 7.0, 8.3],\n",
       "       [0.0, 0.0, 1.0, ..., 9.1, 6.7, 8.0],\n",
       "       [0.0, 1.0, 0.0, ..., 9.1, 6.7, 8.0]], dtype=object)"
      ]
     },
     "execution_count": 29,
     "metadata": {},
     "output_type": "execute_result"
    }
   ],
   "source": [
    "x_test"
   ]
  },
  {
   "cell_type": "code",
   "execution_count": 30,
   "metadata": {},
   "outputs": [
    {
     "data": {
      "text/plain": [
       "array([356, 209, 230, 212, 168, 292, 212, 276, 202, 334, 313, 437, 224,\n",
       "       281, 177, 260, 414, 223, 251, 359, 191, 189, 244, 242, 131, 283,\n",
       "       274, 294, 246, 110, 359, 239, 229, 237, 191, 196, 294, 221, 237,\n",
       "       237, 184, 184, 202, 194, 297, 198, 260, 179, 344, 359, 338, 288,\n",
       "       290, 129, 230, 179, 283, 159, 258, 209, 207, 205, 225, 294, 262,\n",
       "       299, 354, 230, 207, 124, 304, 189, 354, 270, 338, 216, 283, 179,\n",
       "       235, 166, 186, 253, 161, 334, 407, 246, 191, 172, 290, 258, 262,\n",
       "       209, 283, 342, 356, 368, 168, 221, 368, 262, 182, 320, 126, 166,\n",
       "       202, 196, 200, 288, 191, 259, 214, 228, 269, 317, 327, 294, 292,\n",
       "       244, 361, 200, 258, 191, 382, 147, 179, 310, 229, 237, 292, 264,\n",
       "       230, 294, 184, 136, 344, 373, 283, 110, 198, 232, 262, 191, 342,\n",
       "       368, 189, 175, 285, 345, 301, 138, 179, 251, 161, 235, 310, 242,\n",
       "       292, 221, 324, 235, 177, 209, 177, 202, 242, 205, 264, 184, 400,\n",
       "       334, 260, 285, 235, 301, 281, 276, 265, 242, 184, 345, 292, 184,\n",
       "       317, 200, 347, 290, 205, 350, 184, 290, 267, 271, 239, 232, 218,\n",
       "       269, 228, 216, 255, 317, 260, 225, 223, 329, 290, 288, 294, 258,\n",
       "       380, 198, 221, 191, 184, 184], dtype=int64)"
      ]
     },
     "execution_count": 30,
     "metadata": {},
     "output_type": "execute_result"
    }
   ],
   "source": [
    "y_test"
   ]
  },
  {
   "cell_type": "code",
   "execution_count": 31,
   "metadata": {},
   "outputs": [],
   "source": [
    "from sklearn.preprocessing import StandardScaler\n",
    "sc1=StandardScaler()\n",
    "x_train=sc1.fit_transform(x_train)\n",
    "x_test=sc1.transform(x_test)"
   ]
  },
  {
   "cell_type": "code",
   "execution_count": 42,
   "metadata": {},
   "outputs": [],
   "source": [
    "from sklearn.ensemble import RandomForestRegressor"
   ]
  },
  {
   "cell_type": "code",
   "execution_count": 43,
   "metadata": {},
   "outputs": [],
   "source": [
    "rf=RandomForestRegressor(n_estimators=10,criterion=\"mse\",random_state=0,max_depth=5)"
   ]
  },
  {
   "cell_type": "code",
   "execution_count": 44,
   "metadata": {},
   "outputs": [
    {
     "data": {
      "text/plain": [
       "RandomForestRegressor(bootstrap=True, ccp_alpha=0.0, criterion='mse',\n",
       "                      max_depth=5, max_features='auto', max_leaf_nodes=None,\n",
       "                      max_samples=None, min_impurity_decrease=0.0,\n",
       "                      min_impurity_split=None, min_samples_leaf=1,\n",
       "                      min_samples_split=2, min_weight_fraction_leaf=0.0,\n",
       "                      n_estimators=10, n_jobs=None, oob_score=False,\n",
       "                      random_state=0, verbose=0, warm_start=False)"
      ]
     },
     "execution_count": 44,
     "metadata": {},
     "output_type": "execute_result"
    }
   ],
   "source": [
    "rf.fit(x_train,y_train)"
   ]
  },
  {
   "cell_type": "code",
   "execution_count": 45,
   "metadata": {},
   "outputs": [
    {
     "data": {
      "text/plain": [
       "array([354.41811702, 211.96427987, 234.63331749, 216.10662307,\n",
       "       172.98801208, 292.94190629, 213.45233014, 281.39590092,\n",
       "       199.02261235, 351.74868073, 312.94747388, 405.38876607,\n",
       "       209.23012886, 279.37005348, 178.19672371, 260.15349384,\n",
       "       399.76558633, 219.52565365, 264.95613472, 354.41811702,\n",
       "       194.36111718, 193.76274356, 246.05032187, 245.7455449 ,\n",
       "       128.31666667, 284.31421324, 271.51436073, 296.45119406,\n",
       "       246.05032187, 123.14      , 354.41811702, 242.40393986,\n",
       "       231.7239881 , 235.54893173, 194.36111718, 198.15792232,\n",
       "       294.33919184, 219.52565365, 236.66498524, 238.17367488,\n",
       "       187.01783499, 182.3309241 , 199.02261235, 175.72804979,\n",
       "       294.33919184, 199.02261235, 260.64901853, 180.06698583,\n",
       "       348.85689988, 354.41811702, 351.74868073, 280.59223893,\n",
       "       288.70266239, 128.31666667, 234.63331749, 180.06698583,\n",
       "       282.79280745, 170.43183976, 258.87180669, 211.96427987,\n",
       "       206.2959088 , 206.2959088 , 222.36729626, 296.45119406,\n",
       "       260.64901853, 295.45808073, 356.83376845, 232.4239881 ,\n",
       "       206.2959088 , 128.31666667, 306.22323319, 192.6823514 ,\n",
       "       356.83376845, 292.77257564, 345.97938563, 216.63662121,\n",
       "       284.31421324, 178.19672371, 235.54893173, 172.98801208,\n",
       "       187.01783499, 255.54094284, 170.43183976, 344.08563563,\n",
       "       378.51376652, 246.05032187, 194.36111718, 177.32694812,\n",
       "       296.45119406, 263.5890871 , 260.64901853, 211.96427987,\n",
       "       284.31421324, 348.85689988, 354.41811702, 354.41811702,\n",
       "       172.98801208, 220.38858294, 354.41811702, 260.64901853,\n",
       "       181.58991027, 318.09577257, 123.14      , 172.98801208,\n",
       "       199.02261235, 198.15792232, 199.02261235, 286.00307542,\n",
       "       194.36111718, 260.95075127, 215.4083345 , 233.09639441,\n",
       "       271.12024308, 312.94747388, 321.86836661, 291.79263087,\n",
       "       294.33919184, 246.40935564, 356.83376845, 198.15792232,\n",
       "       258.31004198, 194.36111718, 388.84823259, 145.4781746 ,\n",
       "       180.06698583, 306.78551777, 231.75732143, 236.25580628,\n",
       "       290.29790048, 262.98762016, 234.63331749, 294.33919184,\n",
       "       187.01783499, 141.13103175, 348.85689988, 371.43680167,\n",
       "       284.31421324, 123.14      , 198.15792232, 234.63331749,\n",
       "       252.26395267, 194.36111718, 348.85689988, 354.41811702,\n",
       "       192.08655618, 178.19672371, 284.31421324, 352.65934509,\n",
       "       300.86578267, 141.13103175, 180.06698583, 252.72128747,\n",
       "       171.84612547, 236.66498524, 308.01145434, 247.32779711,\n",
       "       290.29790048, 219.52565365, 321.86836661, 238.17367488,\n",
       "       177.32694812, 211.96427987, 178.19672371, 205.67033437,\n",
       "       244.83222232, 206.2959088 , 263.71082792, 183.65632977,\n",
       "       395.7198874 , 348.85689988, 260.64901853, 284.31421324,\n",
       "       235.54893173, 300.86578267, 280.47204905, 281.39590092,\n",
       "       262.98762016, 244.83222232, 183.65632977, 355.07499652,\n",
       "       294.33919184, 182.3309241 , 318.09577257, 198.15792232,\n",
       "       324.31743697, 288.70266239, 206.2959088 , 356.83376845,\n",
       "       182.3309241 , 294.33919184, 267.93528233, 271.51436073,\n",
       "       241.28788635, 234.63331749, 218.62430998, 274.9402315 ,\n",
       "       233.09639441, 216.63662121, 250.01908349, 318.09577257,\n",
       "       260.64901853, 222.36729626, 220.38858294, 326.92621749,\n",
       "       293.35476343, 290.65517647, 291.79263087, 258.31004198,\n",
       "       383.22505285, 198.15792232, 219.52565365, 194.36111718,\n",
       "       183.65632977, 182.3309241 ])"
      ]
     },
     "execution_count": 45,
     "metadata": {},
     "output_type": "execute_result"
    }
   ],
   "source": [
    "y_pred=rf.predict(x_test)\n",
    "y_pred"
   ]
  },
  {
   "cell_type": "code",
   "execution_count": 46,
   "metadata": {},
   "outputs": [
    {
     "data": {
      "text/plain": [
       "0.9913047727968988"
      ]
     },
     "execution_count": 46,
     "metadata": {},
     "output_type": "execute_result"
    }
   ],
   "source": [
    "from sklearn.metrics import r2_score\n",
    "r2_score(y_test,y_pred)"
   ]
  },
  {
   "cell_type": "code",
   "execution_count": null,
   "metadata": {},
   "outputs": [],
   "source": []
  },
  {
   "cell_type": "code",
   "execution_count": null,
   "metadata": {},
   "outputs": [],
   "source": []
  }
 ],
 "metadata": {
  "kernelspec": {
   "display_name": "Python 3",
   "language": "python",
   "name": "python3"
  },
  "language_info": {
   "codemirror_mode": {
    "name": "ipython",
    "version": 3
   },
   "file_extension": ".py",
   "mimetype": "text/x-python",
   "name": "python",
   "nbconvert_exporter": "python",
   "pygments_lexer": "ipython3",
   "version": "3.7.6"
  }
 },
 "nbformat": 4,
 "nbformat_minor": 4
}
